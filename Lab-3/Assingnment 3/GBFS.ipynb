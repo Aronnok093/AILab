{
 "cells": [
  {
   "cell_type": "code",
   "execution_count": null,
   "id": "2a2138fb",
   "metadata": {},
   "outputs": [],
   "source": [
    "#MD Fardin Jaman Aranyak\n",
    "#Aust_CSE\n",
    "#ID:190204093\n",
    "#B2"
   ]
  },
  {
   "cell_type": "code",
   "execution_count": null,
   "id": "efdeb2bb",
   "metadata": {},
   "outputs": [
    {
     "name": "stdout",
     "output_type": "stream",
     "text": [
      "Enter the number of nodes in the graph: 4\n",
      "Enter the number of edges in the graph: 5\n",
      "Enter source node, destination node, and weight (space-separated): a b 2\n",
      "Enter source node, destination node, and weight (space-separated): a c 3\n",
      "Enter source node, destination node, and weight (space-separated): b c 1\n",
      "Enter source node, destination node, and weight (space-separated): b d 4\n",
      "Enter source node, destination node, and weight (space-separated): c d 2\n",
      "Graph:\n",
      "{'a': {'b': 2, 'c': 3}, 'b': {'a': 2, 'c': 1, 'd': 4}, 'c': {'a': 3, 'b': 1, 'd': 2}, 'd': {'b': 4, 'c': 2}}\n",
      "Enter node, huristic value (space-separated): a 1\n",
      "Enter node, huristic value (space-separated): b 4\n",
      "Enter node, huristic value (space-separated): c 2\n"
     ]
    }
   ],
   "source": [
    "graph = {}\n",
    "ht ={}\n",
    "\n",
    "node_count = int(input(\"Enter the number of nodes in the graph: \"))\n",
    "edge_count = int(input(\"Enter the number of edges in the graph: \"))\n",
    "\n",
    "for _ in range(edge_count):\n",
    "    src, dest, weight = input(\"Enter source node, destination node, and weight (space-separated): \").split()\n",
    "    weight = int(weight)\n",
    "\n",
    "   \n",
    "    if src in graph:\n",
    "        graph[src][dest] = weight\n",
    "    else:\n",
    "        graph[src] = {dest: weight}\n",
    "\n",
    "    if dest in graph:\n",
    "        graph[dest][src] = weight\n",
    "    else:\n",
    "        graph[dest] = {src: weight}\n",
    "\n",
    "print(\"Graph:\")\n",
    "print(graph)\n",
    "\n",
    "for _ in range(node_count):\n",
    "    node, huristic = input(\"Enter node, huristic value (space-separated): \").split()\n",
    "    ht[node] = huristic\n",
    "print(ht)\n",
    "\n",
    "src =input(\"SRC: \")\n",
    "des =input(\"DES: \")\n",
    "\n",
    "def gbfs(graph,ht,src,des):\n",
    "    \n",
    "    visited =[]\n",
    "    PriorityQueue =[]\n",
    "    weight={src:0}\n",
    "    \n",
    "    visited.append(src)\n",
    "    PriorityQueue.append((ht[src],src))\n",
    "    while PriorityQueue:\n",
    "        y=PriorityQueue[0][1];\n",
    "        PriorityQueue.pop(0);\n",
    "        visited.append(y)\n",
    "        \n",
    "        if y == des:\n",
    "            print(\"Path Cost: \",weight[des])\n",
    "            print(weight)\n",
    "            return;\n",
    "        \n",
    "        print(\"->\",y,end=\" \")\n",
    "        \n",
    "        edges=graph[y].keys()\n",
    "        for edge in edges:\n",
    "            if edge not in visited:\n",
    "                visited.append(edge)\n",
    "                PriorityQueue.append((ht[edge],edge))\n",
    "                PriorityQueue.sort()\n",
    "                weight[edge] = weight[y] + graph[y][edge]\n",
    "                \n",
    "    print(\"Goal node not reachable.\")\n",
    "                \n",
    "gbfs(graph,ht,src,des)\n",
    "    "
   ]
  },
  {
   "cell_type": "code",
   "execution_count": 27,
   "id": "88600657",
   "metadata": {},
   "outputs": [
    {
     "name": "stdout",
     "output_type": "stream",
     "text": [
      "dict_keys(['b', 'c'])\n"
     ]
    }
   ],
   "source": [
    "graph = {\n",
    "    'a': {'b': 2, 'c': 3},\n",
    "    'b': {'a': 2, 'c': 1, 'd': 4},\n",
    "    'c': {'a': 3, 'b': 1},\n",
    "    'd': {'b': 4}\n",
    "}\n",
    "\n",
    "print(graph['a'].keys())"
   ]
  },
  {
   "cell_type": "code",
   "execution_count": null,
   "id": "5e85b1c7",
   "metadata": {},
   "outputs": [],
   "source": [
    "4 \n",
    "5\n",
    "\n",
    "a b 2\n",
    "a c 3\n",
    "b c 1\n",
    "b d 4\n",
    "c d 2\n",
    "\n",
    "a 1\n",
    "b 4\n",
    "c 2\n",
    "d 3"
   ]
  },
  {
   "cell_type": "code",
   "execution_count": null,
   "id": "b2f418a5",
   "metadata": {},
   "outputs": [],
   "source": []
  }
 ],
 "metadata": {
  "kernelspec": {
   "display_name": "Python 3 (ipykernel)",
   "language": "python",
   "name": "python3"
  },
  "language_info": {
   "codemirror_mode": {
    "name": "ipython",
    "version": 3
   },
   "file_extension": ".py",
   "mimetype": "text/x-python",
   "name": "python",
   "nbconvert_exporter": "python",
   "pygments_lexer": "ipython3",
   "version": "3.11.1"
  }
 },
 "nbformat": 4,
 "nbformat_minor": 5
}
