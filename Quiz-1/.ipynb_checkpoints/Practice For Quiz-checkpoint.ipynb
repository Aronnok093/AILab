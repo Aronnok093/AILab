{
 "cells": [
  {
   "cell_type": "code",
   "execution_count": null,
   "id": "2093ead8",
   "metadata": {},
   "outputs": [],
   "source": [
    "#variable \n",
    "#python is called dynamically typed language/ loosely typed\n",
    "#That means we dont need to mention data type like c or c++ -c/c++ strongly typed\n",
    "#Loosely typed programming languages are languages that do not\n",
    "#require you to specify the data type of a variable when declaring it\n",
    "\n",
    "a=3 #int\n",
    "name=\"fardin\" #string\n",
    "pi=3.1416 #double or float\n",
    "b=True #boolean"
   ]
  },
  {
   "cell_type": "code",
   "execution_count": null,
   "id": "c4394a23",
   "metadata": {},
   "outputs": [],
   "source": [
    "#type-casting\n",
    "a = 5\n",
    "b=str(a) #int to string"
   ]
  },
  {
   "cell_type": "code",
   "execution_count": 105,
   "id": "3e54376e",
   "metadata": {},
   "outputs": [
    {
     "name": "stdout",
     "output_type": "stream",
     "text": [
      "Enter A number: 5\n",
      "5\n",
      "\n",
      "Enter your Name: fardin\n",
      "fardin\n",
      "\n",
      "Enter 3 number1 2 3\n",
      "1   2   3\n"
     ]
    }
   ],
   "source": [
    "#input and output\n",
    "a=int(input(\"Enter A number: \")) #default input takes string so we have to convert it into int using int()\n",
    "print(a)\n",
    "print()#print by default print new-line\n",
    "\n",
    "name = input(\"Enter your Name: \")\n",
    "print(name)\n",
    "print()\n",
    "\n",
    "a,b,c=input(\"Enter 3 number\").split() # split () method use to separate or The split () method splits a string into a list\n",
    "print(a,\" \",b,\" \",c)# 1   2   3"
   ]
  },
  {
   "cell_type": "code",
   "execution_count": 108,
   "id": "6e064921",
   "metadata": {},
   "outputs": [
    {
     "name": "stdout",
     "output_type": "stream",
     "text": [
      "its 5\n",
      "1-10\n",
      "Hellow world\n",
      "3\n"
     ]
    }
   ],
   "source": [
    "#condition\n",
    "n=5\n",
    "if n== 5:\n",
    "    print(\"its 5\")\n",
    "else:\n",
    "    print(\"its not 5\")\n",
    "    \n",
    "n=7\n",
    "if n <=10 and n >=0:\n",
    "    print(\"1-10\")\n",
    "elif n>=11:\n",
    "    print(\"out of range\")\n",
    "else:\n",
    "    print(\"its 0\")\n",
    "    \n",
    "n=3\n",
    "if n ==3 or n==5:\n",
    "    print(\"Hellow world\")\n",
    "    \n",
    "#nested:\n",
    "if True:\n",
    "    if n==5:\n",
    "        print(5)\n",
    "    elif n==3:\n",
    "        print(3)"
   ]
  },
  {
   "cell_type": "code",
   "execution_count": 109,
   "id": "4dd5ba46",
   "metadata": {},
   "outputs": [
    {
     "name": "stdout",
     "output_type": "stream",
     "text": [
      "1\n"
     ]
    }
   ],
   "source": [
    "#i++ is not allowed do i+=1 or i=i+1\n",
    "i=0\n",
    "i+=1\n",
    "print(i) # 1"
   ]
  },
  {
   "cell_type": "code",
   "execution_count": 61,
   "id": "56b20511",
   "metadata": {},
   "outputs": [
    {
     "name": "stdout",
     "output_type": "stream",
     "text": [
      "1\n",
      "2\n",
      "3\n",
      "4\n",
      "5\n",
      "6\n",
      "\n",
      "1\n",
      "2\n",
      "3\n",
      "4\n",
      "5\n",
      "6\n"
     ]
    }
   ],
   "source": [
    "#while loop\n",
    "i=0;\n",
    "while i<6:\n",
    "    i+=1;\n",
    "    print(i);\n",
    "    \n",
    "i=0;\n",
    "print()\n",
    "while True: #odd wile loop\n",
    "    i+=1;\n",
    "    print(i);\n",
    "    if i == 6:\n",
    "        break\n",
    "    "
   ]
  },
  {
   "cell_type": "code",
   "execution_count": 74,
   "id": "107b4ed7",
   "metadata": {},
   "outputs": [
    {
     "name": "stdout",
     "output_type": "stream",
     "text": [
      "0\n",
      "1\n",
      "2\n",
      "3\n",
      "4\n",
      "5\n",
      "\n",
      "0\n",
      "1\n",
      "2\n",
      "3\n",
      "4\n",
      "5\n",
      "6\n",
      "\n",
      "1\n",
      "2\n",
      "3\n",
      "4\n",
      "5\n",
      "6\n",
      "\n",
      "6\n",
      "5\n",
      "4\n",
      "3\n",
      "2\n",
      "1\n"
     ]
    }
   ],
   "source": [
    "#for loop   #i=0,i<6\n",
    "for i in range(6): #0 to 5\n",
    "    print(i)\n",
    "    \n",
    "print() #i=0,i<7\n",
    "for i in range(7): #0 to 6 \n",
    "    print(i)\n",
    "    \n",
    "print()        #i=1,i<7\n",
    "for i in range(1,7): #1 to 6\n",
    "    print(i)\n",
    "\n",
    "print()        #i=6,i<0,i-=1\n",
    "for i in range(6,0,-1): #1 to 6 in reverse order\n",
    "    print(i)\n"
   ]
  },
  {
   "cell_type": "code",
   "execution_count": 99,
   "id": "b9138fb7",
   "metadata": {},
   "outputs": [
    {
     "name": "stdout",
     "output_type": "stream",
     "text": [
      "[1, 2, 3, 4, 5]\n",
      "\n",
      "1\n",
      "\n",
      "5\n",
      "\n",
      "1\n",
      "2\n",
      "3\n",
      "4\n",
      "5\n",
      "\n",
      "1\n",
      "2\n",
      "3\n",
      "4\n",
      "5\n",
      "\n",
      "[[1, 2], [2, 3], [3, 4]]\n",
      "\n",
      "[1, 2]\n",
      "\n",
      "1\n",
      "\n",
      "3\n",
      "\n",
      "2\n",
      "\n",
      "[1, 2]\n",
      "[2, 3]\n",
      "[1, 2]\n",
      "[2, 3]\n",
      "[1, 2]\n",
      "[2, 3]\n",
      "\n",
      "['banana', 'cherry']\n",
      "\n",
      "['apple', 'cherry']\n"
     ]
    }
   ],
   "source": [
    "#list\n",
    "a=[1,2,3,4,5]\n",
    "\n",
    "print(a) # [1,2,3,4,5]\n",
    "print()#new line\n",
    "print(a[0]) # 1\n",
    "print()#new line\n",
    "print(len(a)) # 5\n",
    "print()#new line\n",
    "\n",
    "#list + for loop method one\n",
    "for i in range(len(a)):\n",
    "    print(a[i])\n",
    "print()#new line\n",
    "\n",
    "#list + for loop method two\n",
    "for items in a:\n",
    "    print(items)\n",
    "print()#new line\n",
    "    \n",
    "b=[[1,2],[2,3],[3,4]] #nested list\n",
    "print(b) #[[1,2],[2,3],[3,4]]\n",
    "print()#new line\n",
    "print(b[0]) #[1,2]\n",
    "print()#new line\n",
    "print(b[0][0])# 1\n",
    "print()#new line\n",
    "print(len(b)) # 3\n",
    "print()#new line\n",
    "print(len(b[0])) # 2\n",
    "print()#new line\n",
    "#nested list + loop\n",
    "for i in range(len(b)):\n",
    "    for j in range(len(b[i])):\n",
    "        print(b[j])\n",
    "print() #new line\n",
    "\n",
    "x = [\"apple\", \"banana\", \"cherry\"]\n",
    "\n",
    "del x[0] #it will del index 0\n",
    "\n",
    "print(x) #['banana', 'cherry']\n",
    "print()\n",
    "fruits = ['apple', 'banana', 'cherry']\n",
    "\n",
    "fruits.remove(\"banana\")#it will remove bannana from fruits\n",
    "print(fruits) # ['apple', 'cherry']"
   ]
  },
  {
   "cell_type": "code",
   "execution_count": 101,
   "id": "a05818a4",
   "metadata": {},
   "outputs": [
    {
     "name": "stdout",
     "output_type": "stream",
     "text": [
      "(1, 2, 3)\n",
      "\n",
      "[1, 2, 3, 7]\n",
      "\n",
      "(1, 2, 3, 7, 8, 9, 10)\n"
     ]
    },
    {
     "ename": "NameError",
     "evalue": "name 'b' is not defined",
     "output_type": "error",
     "traceback": [
      "\u001b[1;31m---------------------------------------------------------------------------\u001b[0m",
      "\u001b[1;31mNameError\u001b[0m                                 Traceback (most recent call last)",
      "Cell \u001b[1;32mIn[101], line 20\u001b[0m\n\u001b[0;32m     17\u001b[0m \u001b[38;5;66;03m#**Tuples are unchangeable, so you cannot remove items from it, but you can delete the \u001b[39;00m\n\u001b[0;32m     18\u001b[0m \u001b[38;5;66;03m#**tuple completely using the del keyword12. The del keyword can delete the entire tuple\u001b[39;00m\n\u001b[0;32m     19\u001b[0m \u001b[38;5;28;01mdel\u001b[39;00m b\n\u001b[1;32m---> 20\u001b[0m \u001b[38;5;28mprint\u001b[39m(\u001b[43mb\u001b[49m) \u001b[38;5;66;03m# will give erro bc we deleted b\u001b[39;00m\n",
      "\u001b[1;31mNameError\u001b[0m: name 'b' is not defined"
     ]
    }
   ],
   "source": [
    "#touple\n",
    "a =(1,2,3)\n",
    "print(a)#(1, 2, 3)\n",
    "print()#new line\n",
    "#we cant insert new value to touple\n",
    "#but if we want to insert new value to touple we have to convert touple into list then anain into touple\n",
    "a=list(a)#touple to list\n",
    "a.insert(3,7)#insert into 0 to 3rd index\n",
    "a=tuple(a)#list to touple\n",
    "print(touple)#(1, 2, 3,7)\n",
    "print()#new line\n",
    "#touple same as list but its not mutable \n",
    "#we cant insert but we can sum two touple together \n",
    "b=(8,9,10)# new touple\n",
    "print(a+b)# (1, 2, 3, 7, 8, 9, 10)\n",
    "\n",
    "#**Tuples are unchangeable, so you cannot remove items from it, but you can delete the \n",
    "#**tuple completely using the del keyword12. The del keyword can delete the entire tuple\n",
    "del b\n",
    "print(b) # will give error bc we deleted b"
   ]
  },
  {
   "cell_type": "code",
   "execution_count": 111,
   "id": "4912e1d2",
   "metadata": {},
   "outputs": [
    {
     "name": "stdout",
     "output_type": "stream",
     "text": [
      "{'A': [('B', 2), ('C', 3)], 'B': [('C', 1)], 'C': [], 'D': [('A', 2), ('B', 3)]}\n",
      "dict_keys(['brand', 'model', 'year'])\n"
     ]
    }
   ],
   "source": [
    "#dictionary \n",
    "graph = { #\"A\" is key and [(\"B\",2),(\"C\",3)] is values\n",
    "    \"A\":[(\"B\",2),(\"C\",3)], # key:value -> value can be list,tuple string , number , anything.....\n",
    "    \"B\":[(\"C\",1)],\n",
    "    \"C\":[]\n",
    "    \n",
    "}\n",
    "graph[\"D\"]=[(\"A\",2)] #New value Added With New Key\n",
    "graph[\"D\"].append((\"B\",3))#New value Added To The Existing Key\n",
    "print(graph)#print graph\n",
    "\n",
    "car = {\n",
    "\"brand\": \"Ford\",\n",
    "\"model\": \"Mustang\",\n",
    "\"year\": 1964\n",
    "}\n",
    "\n",
    "x = car.keys() # this will print keys only\n",
    "\n",
    "print(x)# dict_keys(['brand', 'model', 'year'])"
   ]
  },
  {
   "cell_type": "code",
   "execution_count": 44,
   "id": "7f837bea",
   "metadata": {},
   "outputs": [
    {
     "name": "stdout",
     "output_type": "stream",
     "text": [
      "{'a': [('b', 2), ('c', 3)], 'b': [('c', 1)], 'c': []}\n"
     ]
    }
   ],
   "source": [
    "g=dict(a =[(\"b\",2),(\"c\",3)],b=[(\"c\",1)],c=[]) #dictionary diclaraion using dict \n",
    "print(g)"
   ]
  },
  {
   "cell_type": "code",
   "execution_count": 55,
   "id": "d99cd2aa",
   "metadata": {},
   "outputs": [
    {
     "name": "stdout",
     "output_type": "stream",
     "text": [
      "Enter number of Node and Edge:4 5\n",
      "source Des weight: a b 2\n",
      "source Des weight: a c 3\n",
      "source Des weight: b c 1\n",
      "source Des weight: d a 2\n",
      "source Des weight: d b 3\n",
      "{'a': [('b', '2'), ('c', '3')], 'b': [('c', '1')], 'd': [('a', '2'), ('b', '3')]}\n"
     ]
    }
   ],
   "source": [
    "#input a graph to the dictionary \n",
    "graph ={}\n",
    "\n",
    "nNode,nEdge = input(\"Enter number of Node and Edge:\").split()\n",
    "nNode=int(nNode)\n",
    "nEdge=int(nEdge)\n",
    "\n",
    "for _ in range(nEdge):\n",
    "    source ,des,weight=input(\"source Des weight: \").split()\n",
    "    \n",
    "    if source not in graph:\n",
    "        graph[source]=[(des,weight)]\n",
    "    else:\n",
    "        graph[source].append((des,weight))\n",
    "print(graph)\n"
   ]
  },
  {
   "cell_type": "code",
   "execution_count": null,
   "id": "5d02ec6c",
   "metadata": {},
   "outputs": [],
   "source": []
  }
 ],
 "metadata": {
  "kernelspec": {
   "display_name": "Python 3 (ipykernel)",
   "language": "python",
   "name": "python3"
  },
  "language_info": {
   "codemirror_mode": {
    "name": "ipython",
    "version": 3
   },
   "file_extension": ".py",
   "mimetype": "text/x-python",
   "name": "python",
   "nbconvert_exporter": "python",
   "pygments_lexer": "ipython3",
   "version": "3.11.1"
  }
 },
 "nbformat": 4,
 "nbformat_minor": 5
}
