{
 "cells": [
  {
   "cell_type": "code",
   "execution_count": null,
   "id": "85438f57",
   "metadata": {},
   "outputs": [],
   "source": [
    "#travel graph and calculate minimum weight with recursion method"
   ]
  },
  {
   "cell_type": "code",
   "execution_count": 14,
   "id": "e4c932c1",
   "metadata": {},
   "outputs": [],
   "source": [
    "graph = {\n",
    "    'i': [('a', 35), ('b', 45)],\n",
    "    'a': [('c', 22), ('d', 32)],\n",
    "    'b': [('d', 28), ('e', 36), ('f', 27)],\n",
    "    'c': [('d', 31), ('g', 47)],\n",
    "    'd': [('g', 30)],\n",
    "    'e': [('g', 26)],\n",
    "    'g': []\n",
    "}"
   ]
  },
  {
   "cell_type": "code",
   "execution_count": 15,
   "id": "82d7ae08",
   "metadata": {},
   "outputs": [],
   "source": [
    "def find_path_length(graph, start, end, acc_distance=0):\n",
    "    #if start node and end node are same\n",
    "    if start == end:\n",
    "        return acc_distance\n",
    "    \n",
    "    #if node not in graph\n",
    "    if not graph[start]:\n",
    "        return float('inf')\n",
    "    \n",
    "    #initialized minimum distance \n",
    "    min_distance = float('inf')\n",
    "    for neighbor, weight in graph[start]:\n",
    "        length = find_path_length(graph, neighbor, end, acc_distance + weight)\n",
    "        min_distance = min(min_distance, length)\n",
    "\n",
    "    return min_distance\n"
   ]
  },
  {
   "cell_type": "code",
   "execution_count": 16,
   "id": "97f391d3",
   "metadata": {},
   "outputs": [
    {
     "name": "stdout",
     "output_type": "stream",
     "text": [
      "62\n"
     ]
    }
   ],
   "source": [
    "print(find_path_length(graph,'a','g'))"
   ]
  },
  {
   "cell_type": "code",
   "execution_count": null,
   "id": "06aec488",
   "metadata": {},
   "outputs": [],
   "source": [
    "#recursion in python"
   ]
  },
  {
   "cell_type": "code",
   "execution_count": 1,
   "id": "91881eef",
   "metadata": {},
   "outputs": [],
   "source": [
    "def facto(n):\n",
    "    if(n==1 or n==0):\n",
    "        return 1;\n",
    "    else:\n",
    "        return facto(n-1)*n"
   ]
  },
  {
   "cell_type": "code",
   "execution_count": 4,
   "id": "d686200b",
   "metadata": {},
   "outputs": [
    {
     "name": "stdout",
     "output_type": "stream",
     "text": [
      "6\n"
     ]
    }
   ],
   "source": [
    "print(facto(3))"
   ]
  },
  {
   "cell_type": "code",
   "execution_count": null,
   "id": "736cb26c",
   "metadata": {},
   "outputs": [],
   "source": [
    "#factorial(0) = 1\n",
    "#factorial(1) = 1 * factorial(0) = 1 * 1 = 1\n",
    "#factorial(2) = 2 * factorial(1)* factorial(0) = 2 * 1 * 1 = 2\n",
    "#factorial(3) = 3 * factorial(2)*factorial(1) * factorial(0) = 3 * 2 * 1 * 1 = 6\n",
    "#factorial(4) = 4 * factorial(3) * factorial(2)*factorial(1) * factorial(0) = 4 * 3 * 2 * 1 * 1 = 24\n",
    "#factorial(5) = 5 * factorial(4) * factorial(3) * factorial(2) * factorial(1) * factorial(0) = 5 * 4 * 3 * 2 * 1 * 1 = 120"
   ]
  },
  {
   "cell_type": "code",
   "execution_count": null,
   "id": "a09721e5",
   "metadata": {},
   "outputs": [],
   "source": [
    "#8-puzzle problem in Python using the Manhattan distance heuristic"
   ]
  },
  {
   "cell_type": "code",
   "execution_count": 1,
   "id": "e352dab8",
   "metadata": {},
   "outputs": [],
   "source": [
    "# Goal configuration\n",
    "goal_config = {\n",
    "    1: (1, 1, 1),\n",
    "    2: (2, 1, 2),\n",
    "    3: (3, 1, 3),\n",
    "    4: (4, 2, 3),\n",
    "    5: (5, 3, 3),\n",
    "    6: (6, 3, 2),\n",
    "    7: (7, 3, 1),\n",
    "    8: (8, 2, 1)\n",
    "}\n",
    "\n",
    "goal_blank = (2, 2)\n",
    "\n",
    "# Target configuration\n",
    "target_config = {\n",
    "    1: (1, 1, 2),\n",
    "    2: (2, 1, 3),\n",
    "    3: (3, 2, 1),\n",
    "    4: (4, 2, 3),\n",
    "    5: (5, 3, 3),\n",
    "    6: (6, 2, 2),\n",
    "    7: (7, 3, 2),\n",
    "    8: (8, 1, 1)\n",
    "}\n",
    "\n",
    "target_blank = (3, 1)"
   ]
  },
  {
   "cell_type": "code",
   "execution_count": 16,
   "id": "42d3b2e5",
   "metadata": {},
   "outputs": [
    {
     "name": "stdout",
     "output_type": "stream",
     "text": [
      "Heuristics: 8\n"
     ]
    }
   ],
   "source": [
    "# Function to calculate the Manhattan distance between two cells\n",
    "def manhattan_distance(cell1, cell2):\n",
    "    x1, y1 = cell1[1:]\n",
    "    x2, y2 = cell2[1:]\n",
    "    return abs(x1 - x2) + abs(y1 - y2)\n",
    "\n",
    "# Function to calculate the heuristic values\n",
    "def calculate_heuristics():\n",
    "    heuristics = []\n",
    "    for tile in range(1, 9):\n",
    "        tile_goal = goal_config[tile]\n",
    "        tile_target = target_config[tile]\n",
    "        distance = manhattan_distance(tile_goal, tile_target)\n",
    "        heuristics.append(distance)\n",
    "    return heuristics\n",
    "\n",
    "# Calculate heuristics for each tile\n",
    "heuristics = calculate_heuristics()\n",
    "\n",
    "# Calculate the sum of heuristics\n",
    "total_heuristic = sum(heuristics)\n",
    "\n",
    "# Output\n",
    "print(\"Heuristics:\", total_heuristic)"
   ]
  },
  {
   "cell_type": "code",
   "execution_count": null,
   "id": "e66e9da5",
   "metadata": {},
   "outputs": [],
   "source": [
    "#8 queen problem Attacking pairs"
   ]
  },
  {
   "cell_type": "code",
   "execution_count": 98,
   "id": "162c4d16",
   "metadata": {},
   "outputs": [],
   "source": [
    "graph={\n",
    "    'Q1':[(6,1)],\n",
    "    'Q2':[(1,2)],\n",
    "    'Q3':[(5,3)],\n",
    "    'Q4':[(7,4)],\n",
    "    'Q5':[(4,5)],\n",
    "    'Q6':[(3,6)],\n",
    "    'Q7':[(8,7)],\n",
    "    'Q8':[(1,8)]\n",
    "}"
   ]
  },
  {
   "cell_type": "code",
   "execution_count": 99,
   "id": "894fec64",
   "metadata": {},
   "outputs": [],
   "source": [
    "queens=['Q1','Q2','Q3','Q4','Q5','Q6','Q7','Q8']"
   ]
  },
  {
   "cell_type": "code",
   "execution_count": 100,
   "id": "52f2e327",
   "metadata": {},
   "outputs": [],
   "source": [
    "def cheack(row,column):\n",
    "    \n",
    "    for queen in queens:\n",
    "        \n",
    "        for xrow,xcolumn in graph[queen]:\n",
    "            if(row==xrow and column==xcolumn):\n",
    "                return 1;\n",
    "    return 0;"
   ]
  },
  {
   "cell_type": "code",
   "execution_count": 113,
   "id": "c2d9fe7f",
   "metadata": {},
   "outputs": [],
   "source": [
    "def attacking_queen():\n",
    "    cnt =0;\n",
    "    for j in range(8):\n",
    "        for row,column in graph[queens[j]]:\n",
    "        \n",
    "            new_row=row\n",
    "            new_col=column\n",
    "\n",
    "            # In a same row\n",
    "            for i in range(8):\n",
    "\n",
    "                new_col=new_col+1;\n",
    "                if(new_row<=8):\n",
    "                    cnt=cnt+cheack(new_row,new_col)\n",
    "\n",
    "            new_row=row\n",
    "            new_col=column\n",
    "            #Diagonally up        \n",
    "            for i in range(8):\n",
    "                new_row=new_row+1;\n",
    "                new_col=new_col+1;\n",
    "                if new_row<=8 and new_col<=8:\n",
    "                    cnt=cnt+cheack(new_row,new_col)\n",
    "            #Diagonally Down\n",
    "            new_row=row\n",
    "            new_col=column\n",
    "            for i in range(8):\n",
    "                new_row=new_row-1;\n",
    "                new_col=new_col+1;\n",
    "                if new_row>=1 and new_col>=1:\n",
    "                    cnt=cnt+cheack(new_row,new_col)\n",
    "            #print(queens[j],\" \",cnt);\n",
    "    return cnt;"
   ]
  },
  {
   "cell_type": "code",
   "execution_count": 114,
   "id": "65d99db3",
   "metadata": {},
   "outputs": [
    {
     "name": "stdout",
     "output_type": "stream",
     "text": [
      "Attacking pairs:  5\n"
     ]
    }
   ],
   "source": [
    "print(\"Attacking pairs: \",attacking_queen())"
   ]
  },
  {
   "cell_type": "code",
   "execution_count": null,
   "id": "36f0a042",
   "metadata": {},
   "outputs": [],
   "source": []
  }
 ],
 "metadata": {
  "kernelspec": {
   "display_name": "Python 3 (ipykernel)",
   "language": "python",
   "name": "python3"
  },
  "language_info": {
   "codemirror_mode": {
    "name": "ipython",
    "version": 3
   },
   "file_extension": ".py",
   "mimetype": "text/x-python",
   "name": "python",
   "nbconvert_exporter": "python",
   "pygments_lexer": "ipython3",
   "version": "3.11.1"
  }
 },
 "nbformat": 4,
 "nbformat_minor": 5
}
